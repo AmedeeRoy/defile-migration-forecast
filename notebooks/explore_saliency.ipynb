{
 "cells": [
  {
   "cell_type": "code",
   "execution_count": null,
   "metadata": {},
   "outputs": [],
   "source": [
    "import os\n",
    "\n",
    "import hydra\n",
    "import rootutils\n",
    "from hydra import compose, initialize\n",
    "from omegaconf import OmegaConf\n",
    "\n",
    "rootutils.setup_root(os.getcwd(), indicator=\".project-root\", pythonpath=True)\n",
    "OmegaConf.register_new_resolver(\"len\", len)\n",
    "OmegaConf.register_new_resolver(\"eval\", eval)\n",
    "\n",
    "with initialize(version_base=\"1.3\", config_path=\"../configs\"):\n",
    "    cfg = compose(config_name=\"train.yaml\", return_hydra_config=True)\n",
    "\n",
    "data = hydra.utils.instantiate(cfg.data)\n",
    "# model = hydra.utils.instantiate(cfg.model)"
   ]
  },
  {
   "cell_type": "code",
   "execution_count": null,
   "metadata": {},
   "outputs": [],
   "source": [
    "import pickle\n",
    "\n",
    "import torch\n",
    "\n",
    "filepath = r\"C:\\Users\\amedee.roy\\OneDrive - FRANCE ENERGIES MARINES\\SCRIPTS\\defile-migration-forecast\\logs\\train\\runs\\2025-03-27_11-32-43\\Common Buzzard\\test_explanation.pickle\"\n",
    "with open(filepath, \"rb\") as f:\n",
    "    test_explanation = pickle.load(f)\n",
    "\n",
    "test_explanation = [\n",
    "    torch.cat([exp[k] for exp in test_explanation], dim=0) for k in range(len(test_explanation[0]))\n",
    "]\n",
    "yr, doy, era5_main, era5_hourly, era5_daily = test_explanation"
   ]
  },
  {
   "cell_type": "code",
   "execution_count": null,
   "metadata": {},
   "outputs": [],
   "source": [
    "from matplotlib import pyplot as plt\n",
    "\n",
    "plt.hist(yr.squeeze().numpy(), edgecolor=\"k\", alpha=0.5)\n",
    "plt.title(\"year\")\n",
    "plt.show()\n",
    "\n",
    "plt.hist(doy.squeeze().numpy(), edgecolor=\"k\", alpha=0.5)\n",
    "plt.title(\"day of year\")\n",
    "plt.show()"
   ]
  },
  {
   "cell_type": "code",
   "execution_count": null,
   "metadata": {},
   "outputs": [],
   "source": [
    "fig, ax = plt.subplots(3, 1, figsize=(6, 10), tight_layout=True, sharex=True)\n",
    "\n",
    "values = torch.mean(era5_main, dim=(0, 2, 3)).numpy()\n",
    "variables = list(data.era5_main.data_vars)\n",
    "ax[0].barh(variables, values)\n",
    "ax[0].set_title(\"Local hourly metrics\")\n",
    "\n",
    "values = torch.mean(era5_hourly, dim=(0, 2, 3)).numpy()\n",
    "variables = list(data.era5_hourly.data_vars)\n",
    "ax[1].barh(variables, values)\n",
    "ax[1].set_title(\"Remote hourly metrics\")\n",
    "\n",
    "values = torch.mean(era5_daily, dim=(0, 2, 3)).numpy()\n",
    "variables = list(data.era5_daily.data_vars)\n",
    "ax[2].barh(variables, values)\n",
    "ax[2].set_title(\"Remote daily metrics\")\n",
    "plt.show()"
   ]
  },
  {
   "cell_type": "code",
   "execution_count": null,
   "metadata": {},
   "outputs": [],
   "source": [
    "fig, ax = plt.subplots(2, 1, figsize=(6, 6), tight_layout=True, sharex=True)\n",
    "\n",
    "values = torch.mean(era5_hourly, dim=(0, 1, 2)).numpy()\n",
    "variables = list(data.era5_hourly.location.values)\n",
    "ax[0].barh(variables, values)\n",
    "ax[0].set_title(\"Remote hourly locations\")\n",
    "\n",
    "values = torch.mean(era5_daily, dim=(0, 1, 2)).numpy()\n",
    "variables = list(data.era5_daily.location.values)\n",
    "ax[1].barh(variables, values)\n",
    "ax[1].set_title(\"Remote daily locations\")\n",
    "plt.show()"
   ]
  }
 ],
 "metadata": {
  "kernelspec": {
   "display_name": "defile-env",
   "language": "python",
   "name": "python3"
  },
  "language_info": {
   "codemirror_mode": {
    "name": "ipython",
    "version": 3
   },
   "file_extension": ".py",
   "mimetype": "text/x-python",
   "name": "python",
   "nbconvert_exporter": "python",
   "pygments_lexer": "ipython3",
   "version": "3.10.14"
  }
 },
 "nbformat": 4,
 "nbformat_minor": 2
}
