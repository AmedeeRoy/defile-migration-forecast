{
 "cells": [
  {
   "cell_type": "markdown",
   "metadata": {},
   "source": [
    "# Assess prediction\n",
    "\n",
    "## Dimensions to consider\n",
    "\n",
    "- year\n",
    "- season\n",
    "- hourly\n",
    "\n",
    "- daily count vs hourly count\n",
    "\n",
    "## Variable to consider\n",
    "\n",
    "- weather\n"
   ]
  },
  {
   "cell_type": "code",
   "execution_count": null,
   "metadata": {},
   "outputs": [],
   "source": [
    "import math\n",
    "\n",
    "import numpy as np\n",
    "import xarray as xr\n",
    "from matplotlib import pyplot as plt"
   ]
  },
  {
   "cell_type": "code",
   "execution_count": null,
   "metadata": {},
   "outputs": [],
   "source": [
    "path = r\"C:\\Users\\amedee.roy\\OneDrive - FRANCE ENERGIES MARINES\\SCRIPTS\\defile-migration-forecast\\logs\\eval\\runs\\2024-07-11_16-29-02\\test_pred.nc\"\n",
    "data = xr.open_dataset(path)"
   ]
  },
  {
   "cell_type": "markdown",
   "metadata": {},
   "source": [
    "## Global metric\n"
   ]
  },
  {
   "cell_type": "code",
   "execution_count": null,
   "metadata": {},
   "outputs": [],
   "source": [
    "true_count = data.masked_total_counts.values\n",
    "pred_count = data.estimated_masked_total_counts.values\n",
    "\n",
    "plt.hist(true_count, label=\"True count\", alpha=0.5)\n",
    "plt.hist(pred_count, label=\"Predicted count\", alpha=0.5)\n",
    "plt.xlabel(\"Count (log-scale)\")\n",
    "plt.ylabel(\"Histogram\")\n",
    "plt.legend()\n",
    "plt.show()"
   ]
  },
  {
   "cell_type": "code",
   "execution_count": null,
   "metadata": {},
   "outputs": [],
   "source": [
    "x = np.linspace(min(true_count), max(true_count), 100)\n",
    "coef = np.polyfit(true_count, pred_count, 5)\n",
    "y = np.polyval(coef, x)\n",
    "\n",
    "plt.scatter(true_count, pred_count, c=\"black\", s=5, alpha=0.4)\n",
    "plt.plot(x, y, c=\"red\")\n",
    "plt.plot(x, x, \"--\", c=\"black\")\n",
    "plt.xlabel(\"True count (log-scale)\")\n",
    "plt.ylabel(\"Predicted count (log-scale)\")\n",
    "plt.show()"
   ]
  },
  {
   "cell_type": "markdown",
   "metadata": {},
   "source": [
    "## Timeseries\n"
   ]
  },
  {
   "cell_type": "code",
   "execution_count": null,
   "metadata": {},
   "outputs": [],
   "source": [
    "from matplotlib.patches import Rectangle\n",
    "\n",
    "fig, ax = plt.subplots(4, 4, figsize=(12, 8), tight_layout=True)\n",
    "ax = ax.flatten()\n",
    "for i, k in enumerate(np.random.randint(0, len(data.date), size=16)):\n",
    "    subs = data.isel(date=k)\n",
    "\n",
    "    ax[i].plot(np.arange(0, 24), subs.estimated_hourly_counts)\n",
    "    for k, m in enumerate(subs.mask.values):\n",
    "        if m == 1:\n",
    "            ax[i].add_patch(Rectangle((k, 0), m, 10, color=\"yellow\"))\n",
    "            obs = subs.masked_total_counts.item() / subs.mask.sum().item()\n",
    "            ax[i].plot([k, k + 1], [obs, obs], c=\"tab:red\")\n",
    "\n",
    "    ax[i].set_ylim(0, max(subs.estimated_hourly_counts.max(), obs) + 0.1)\n",
    "    ax[i].set_xlabel(\"hours\")\n",
    "    ax[i].set_ylabel(\"Bird counts (log10)\")\n",
    "# plt.savefig(f'{self.plotdir}/plt_timeseries.jpg')"
   ]
  },
  {
   "cell_type": "code",
   "execution_count": null,
   "metadata": {},
   "outputs": [],
   "source": [
    "data = data.assign_coords(doy=data.date.dt.dayofyear)\n",
    "\n",
    "fig, ax = plt.subplots(1, 1, figsize=(6, 4))\n",
    "data.groupby(\"doy\").sum().masked_total_counts.plot(ax=ax, label=\"True\")\n",
    "data.groupby(\"doy\").sum().estimated_masked_total_counts.plot(ax=ax, label=\"Prediction\")\n",
    "plt.legend()\n",
    "plt.show()"
   ]
  }
 ],
 "metadata": {
  "kernelspec": {
   "display_name": "defile-env",
   "language": "python",
   "name": "python3"
  },
  "language_info": {
   "codemirror_mode": {
    "name": "ipython",
    "version": 3
   },
   "file_extension": ".py",
   "mimetype": "text/x-python",
   "name": "python",
   "nbconvert_exporter": "python",
   "pygments_lexer": "ipython3",
   "version": "3.10.14"
  }
 },
 "nbformat": 4,
 "nbformat_minor": 2
}
