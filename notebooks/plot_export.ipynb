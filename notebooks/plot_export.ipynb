{
 "cells": [
  {
   "cell_type": "markdown",
   "metadata": {},
   "source": [
    "# Assess prediction\n",
    "\n",
    "## Dimensions to consider\n",
    "\n",
    "- year\n",
    "- season\n",
    "- hourly\n",
    "\n",
    "- daily count vs hourly count\n",
    "\n",
    "## Variable to consider\n",
    "\n",
    "- weather\n"
   ]
  },
  {
   "cell_type": "code",
   "execution_count": null,
   "metadata": {},
   "outputs": [],
   "source": [
    "import math\n",
    "\n",
    "import numpy as np\n",
    "import pandas as pd\n",
    "import xarray as xr\n",
    "from matplotlib import pyplot as plt"
   ]
  },
  {
   "cell_type": "code",
   "execution_count": null,
   "metadata": {},
   "outputs": [],
   "source": [
    "path = r\"C:\\Users\\amedee.roy\\OneDrive - FRANCE ENERGIES MARINES\\SCRIPTS\\defile-migration-forecast\\logs\\predict\\runs\\2024-09-13_10-02-26\\20240913_Buse_variable.nc\"\n",
    "data = xr.open_dataset(path)\n",
    "\n",
    "daily_counts_log10 = data.sum(dim=\"time\").estimated_hourly_counts\n",
    "daily_counts = np.exp(daily_counts_log10) - 1\n",
    "\n",
    "data_smooth = data.rolling({\"time\": 3}, center=True).mean()\n",
    "\n",
    "fig, ax = plt.subplots(2, 3, figsize=(10, 5), tight_layout=True, sharex=True, sharey=True)\n",
    "ax = ax.flatten()\n",
    "for k in range(len(data.date)):\n",
    "    subset = data_smooth.isel(date=k)\n",
    "\n",
    "    weights = subset.estimated_hourly_counts / subset.estimated_hourly_counts.sum()\n",
    "\n",
    "    ax[k].bar(np.arange(24), weights * daily_counts[k])\n",
    "\n",
    "    ax[k].set_title(subset.date.dt.strftime(\"%Y-%m-%d\").item())\n",
    "    ax[k].set_xticks(np.arange(0, 24, 3), [str(h) + \"h\" for h in np.arange(0, 24, 3)])\n",
    "\n",
    "    ax[k].text(\n",
    "        0.05,\n",
    "        0.93,\n",
    "        f\"Total = {daily_counts[k]:.0f}\",\n",
    "        transform=ax[k].transAxes,\n",
    "        fontsize=10,\n",
    "        verticalalignment=\"top\",\n",
    "        horizontalalignment=\"left\",\n",
    "        bbox=dict(boxstyle=\"round,pad=0.5\", facecolor=\"gray\", alpha=0.25),\n",
    "    )\n",
    "\n",
    "ax[0].set_ylabel(\"Forecasted individual \\ncounts (#)\")\n",
    "ax[3].set_ylabel(\"Forecasted individual \\ncounts (#)\")\n",
    "\n",
    "plt.suptitle(\"Defile Bird Forecasts - Common Buzzard\")\n",
    "plt.show()"
   ]
  },
  {
   "cell_type": "code",
   "execution_count": null,
   "metadata": {},
   "outputs": [],
   "source": [
    "data.sum(dim=\"time\").estimated_hourly_counts.plot()\n",
    "plt.show()"
   ]
  },
  {
   "cell_type": "code",
   "execution_count": null,
   "metadata": {},
   "outputs": [],
   "source": [
    "path = r\"C:\\Users\\amedee.roy\\OneDrive - FRANCE ENERGIES MARINES\\SCRIPTS\\defile-migration-forecast\\logs\\train\\runs\\2024-07-16_11-03-35\\test_pred.nc\"\n",
    "data = xr.open_dataset(path)\n",
    "data = data.assign_coords(year=data[\"date\"].dt.year)"
   ]
  },
  {
   "cell_type": "code",
   "execution_count": null,
   "metadata": {},
   "outputs": [],
   "source": [
    "from scipy.stats import pearsonr\n",
    "from sklearn.metrics import r2_score\n",
    "\n",
    "fig, ax = plt.subplots(2, 3, figsize=(15, 6), tight_layout=True)\n",
    "ax = ax.flatten()\n",
    "for k, year in enumerate(np.unique(data.year)):\n",
    "\n",
    "    sub = data.where(data.year == year, drop=True)\n",
    "    sub = sub.groupby(\"date\").mean()\n",
    "\n",
    "    sub.masked_total_counts.plot(ax=ax[k], label=\"True\")\n",
    "    sub.estimated_masked_total_counts.plot(ax=ax[k], label=\"Prediction\")\n",
    "\n",
    "    score = r2_score(sub.masked_total_counts, sub.estimated_masked_total_counts)\n",
    "    coeff = pearsonr(sub.masked_total_counts, sub.estimated_masked_total_counts)\n",
    "\n",
    "    ax[k].annotate(\n",
    "        rf\"R$^2$ = {score:.2f}\" + \"\\n\" + rf\"$\\rho$ = {coeff.statistic:.2f}\",\n",
    "        xy=(0.05, 0.7),\n",
    "        xycoords=\"axes fraction\",\n",
    "        bbox=dict(facecolor=\"grey\", alpha=0.3),\n",
    "    )\n",
    "\n",
    "    ax[k].set_title(year)\n",
    "\n",
    "plt.legend()\n",
    "plt.show()"
   ]
  },
  {
   "cell_type": "code",
   "execution_count": null,
   "metadata": {},
   "outputs": [],
   "source": [
    "subs"
   ]
  },
  {
   "cell_type": "code",
   "execution_count": null,
   "metadata": {},
   "outputs": [],
   "source": [
    "fig, ax = plt.subplots(4, 4, figsize=(12, 8), tight_layout=True)\n",
    "ax = ax.flatten()\n",
    "for i, k in enumerate(np.random.randint(0, len(data.date), size=16)):\n",
    "    subs = data.isel(date=k)\n",
    "    ax[i].plot(np.arange(0, 24), subs.estimated_hourly_counts)\n",
    "    ax[i].plot(np.arange(0, 24), subs.temperature_2m / 10)"
   ]
  },
  {
   "cell_type": "code",
   "execution_count": null,
   "metadata": {},
   "outputs": [],
   "source": [
    "# path = r\"C:\\Users\\amedee.roy\\OneDrive - FRANCE ENERGIES MARINES\\SCRIPTS\\defile-migration-forecast\\data\\all_count_processed.csv\"\n",
    "# data = pd.read_csv(path, parse_dates=[\"date\", \"start\", \"end\"])\n",
    "# data['year'] = data['date'].dt.year\n",
    "# data['obs_time'] = (data['end'] - data['start']).dt.seconds/3600\n",
    "# data_demo = data.groupby([\"year\", \"species\"]).sum(numeric_only=True)\n",
    "# data_demo['rel_count'] = data_demo['count'] / data_demo['obs_time']\n",
    "# data_demo = data_demo.reset_index()"
   ]
  },
  {
   "cell_type": "code",
   "execution_count": null,
   "metadata": {},
   "outputs": [],
   "source": [
    "# species = [\"Milan noir\", \"Common Buzzard\", \"Bondrée apivore\",\n",
    "#             \"Milan royal\", \"Épervier d'Europe\", \"Faucon crécerelle\",\n",
    "#             \"Balbuzard pêcheur\", \"Faucon hobereau\", \"Busard Saint-Martin\",\n",
    "#             \"Faucon émerillon\", \"Busard cendré\", \"Circaète Jean-le-Blanc\"]\n",
    "\n",
    "# fig, ax = plt.subplots(4,3, figsize=(12,8), tight_layout=True)\n",
    "# ax = ax.flatten()\n",
    "# for k, sp in enumerate(species):\n",
    "#     sub = data_demo[data_demo.species == sp].copy()\n",
    "\n",
    "#     x = np.linspace(min(sub.year), max(sub.year), 100)\n",
    "#     coef = np.polyfit(sub.year, sub.rel_count, 5)\n",
    "#     y = np.polyval(coef, x)\n",
    "\n",
    "#     ax[k].plot(sub.year, sub.rel_count)\n",
    "#     ax[k].plot(x, y)\n",
    "#     ax[k].set_title(sp)"
   ]
  },
  {
   "cell_type": "markdown",
   "metadata": {},
   "source": [
    "## Global metric\n"
   ]
  },
  {
   "cell_type": "code",
   "execution_count": null,
   "metadata": {},
   "outputs": [],
   "source": [
    "true_count = data.masked_total_counts.values\n",
    "pred_count = data.estimated_masked_total_counts.values\n",
    "\n",
    "plt.hist(true_count, label=\"True count\", alpha=0.5)\n",
    "plt.hist(pred_count, label=\"Predicted count\", alpha=0.5)\n",
    "plt.xlabel(\"Count (log-scale)\")\n",
    "plt.ylabel(\"Histogram\")\n",
    "plt.legend()\n",
    "plt.show()"
   ]
  },
  {
   "cell_type": "code",
   "execution_count": null,
   "metadata": {},
   "outputs": [],
   "source": [
    "x = np.linspace(min(true_count), max(true_count), 100)\n",
    "coef = np.polyfit(true_count, pred_count, 5)\n",
    "y = np.polyval(coef, x)\n",
    "\n",
    "plt.scatter(true_count, pred_count, c=\"black\", s=5, alpha=0.4)\n",
    "plt.plot(x, y, c=\"red\")\n",
    "plt.plot(x, x, \"--\", c=\"black\")\n",
    "plt.xlabel(\"True count (log-scale)\")\n",
    "plt.ylabel(\"Predicted count (log-scale)\")\n",
    "plt.show()"
   ]
  },
  {
   "cell_type": "markdown",
   "metadata": {},
   "source": [
    "## Timeseries\n"
   ]
  },
  {
   "cell_type": "code",
   "execution_count": null,
   "metadata": {},
   "outputs": [],
   "source": [
    "from matplotlib.patches import Rectangle\n",
    "\n",
    "fig, ax = plt.subplots(4, 4, figsize=(12, 8), tight_layout=True)\n",
    "ax = ax.flatten()\n",
    "for i, k in enumerate(np.random.randint(0, len(data.date), size=16)):\n",
    "    subs = data.isel(date=k)\n",
    "\n",
    "    ax[i].plot(np.arange(0, 24), subs.estimated_hourly_counts)\n",
    "    for k, m in enumerate(subs.mask.values):\n",
    "        if m == 1:\n",
    "            ax[i].add_patch(Rectangle((k, 0), m, 10, color=\"yellow\"))\n",
    "            obs = subs.masked_total_counts.item() / subs.mask.sum().item()\n",
    "            ax[i].plot([k, k + 1], [obs, obs], c=\"tab:red\")\n",
    "\n",
    "    ax[i].set_ylim(0, max(subs.estimated_hourly_counts.max(), obs) + 0.1)\n",
    "    ax[i].set_xlabel(\"hours\")\n",
    "    ax[i].set_ylabel(\"Bird counts (log10)\")\n",
    "# plt.savefig(f'{self.plotdir}/plt_timeseries.jpg')"
   ]
  },
  {
   "cell_type": "code",
   "execution_count": null,
   "metadata": {},
   "outputs": [],
   "source": [
    "data = data.assign_coords(doy=data.date.dt.dayofyear)\n",
    "\n",
    "fig, ax = plt.subplots(1, 1, figsize=(6, 4))\n",
    "data.groupby(\"doy\").sum().masked_total_counts.plot(ax=ax, label=\"True\")\n",
    "data.groupby(\"doy\").sum().estimated_masked_total_counts.plot(ax=ax, label=\"Prediction\")\n",
    "plt.legend()\n",
    "plt.show()"
   ]
  }
 ],
 "metadata": {
  "kernelspec": {
   "display_name": "defile-env",
   "language": "python",
   "name": "python3"
  },
  "language_info": {
   "codemirror_mode": {
    "name": "ipython",
    "version": 3
   },
   "file_extension": ".py",
   "mimetype": "text/x-python",
   "name": "python",
   "nbconvert_exporter": "python",
   "pygments_lexer": "ipython3",
   "version": "3.10.14"
  }
 },
 "nbformat": 4,
 "nbformat_minor": 2
}
