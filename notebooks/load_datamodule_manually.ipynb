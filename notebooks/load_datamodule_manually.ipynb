{
 "cells": [
  {
   "cell_type": "code",
   "execution_count": null,
   "metadata": {},
   "outputs": [],
   "source": [
    "import os\n",
    "\n",
    "import rootutils\n",
    "\n",
    "rootutils.setup_root(os.getcwd(), indicator=\".project-root\", pythonpath=True)"
   ]
  },
  {
   "cell_type": "code",
   "execution_count": null,
   "metadata": {},
   "outputs": [],
   "source": [
    "from src.data.defile_datamodule import DefileDataModule\n",
    "\n",
    "dataloader = DefileDataModule(\n",
    "    data_dir=r\"C:\\Users\\amedee.roy\\OneDrive - FRANCE ENERGIES MARINES\\SCRIPTS\\defile-migration-forecast\\data\",\n",
    "    batch_size=256,\n",
    "    species=\"Buse variable\",\n",
    "    lag_day=7,\n",
    "    seed=0,\n",
    "    train_val_test_cum_ratio=[0.7, 0.9],\n",
    "    num_workers=0,\n",
    "    pin_memory=False,\n",
    ")\n",
    "dataloader.setup()\n",
    "train_dataloader = dataloader.train_dataloader()"
   ]
  },
  {
   "cell_type": "code",
   "execution_count": null,
   "metadata": {},
   "outputs": [],
   "source": [
    "count, yr, doy, era5_hourly, era5_daily, mask = next(iter(train_dataloader))"
   ]
  },
  {
   "cell_type": "code",
   "execution_count": null,
   "metadata": {},
   "outputs": [],
   "source": [
    "era5_hourly"
   ]
  },
  {
   "cell_type": "code",
   "execution_count": null,
   "metadata": {},
   "outputs": [],
   "source": [
    "import pandas as pd\n",
    "from suncalc import get_position\n",
    "\n",
    "# Create data xarray (better to handle multi-indexing)\n",
    "era5_hourly = pd.read_csv(\n",
    "    r\"C:\\Users\\amedee.roy\\OneDrive - FRANCE ENERGIES MARINES\\SCRIPTS\\defile-migration-forecast\\data\\era5_hourly.csv\",\n",
    "    parse_dates=[\"datetime\"],\n",
    ")\n",
    "era5_hourly[\"date\"] = pd.to_datetime(era5_hourly[\"datetime\"].dt.date)\n",
    "era5_hourly[\"time\"] = pd.to_timedelta(era5_hourly.datetime.dt.time.astype(str))\n",
    "\n",
    "lon = 5.8919\n",
    "lat = 46.1178\n",
    "\n",
    "sun_position = get_position(era5_hourly[\"datetime\"], lon, lat)\n",
    "era5_hourly[\"sun_altitude\"] = sun_position[\"altitude\"]\n",
    "era5_hourly[\"sun_azimuth\"] = sun_position[\"azimuth\"]\n",
    "\n",
    "# era5_hourly = era5_hourly.drop(\"datetime\", axis=1)\n",
    "# era5_hourly = era5_hourly.set_index(\n",
    "#     [\"date\", \"time\"]\n",
    "#     ).to_xarray()  # date and time as distinct indexes"
   ]
  },
  {
   "cell_type": "code",
   "execution_count": null,
   "metadata": {},
   "outputs": [],
   "source": [
    "era5_hourly[:100].sun_azimuth.plot()"
   ]
  },
  {
   "cell_type": "code",
   "execution_count": null,
   "metadata": {},
   "outputs": [],
   "source": [
    "data[:100]"
   ]
  }
 ],
 "metadata": {
  "kernelspec": {
   "display_name": "defile-env",
   "language": "python",
   "name": "python3"
  },
  "language_info": {
   "codemirror_mode": {
    "name": "ipython",
    "version": 3
   },
   "file_extension": ".py",
   "mimetype": "text/x-python",
   "name": "python",
   "nbconvert_exporter": "python",
   "pygments_lexer": "ipython3",
   "version": "3.10.14"
  }
 },
 "nbformat": 4,
 "nbformat_minor": 2
}
