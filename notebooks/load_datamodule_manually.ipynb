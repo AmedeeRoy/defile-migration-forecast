{
 "cells": [
  {
   "cell_type": "code",
   "execution_count": null,
   "metadata": {},
   "outputs": [],
   "source": [
    "import os\n",
    "\n",
    "import rootutils\n",
    "\n",
    "rootutils.setup_root(os.getcwd(), indicator=\".project-root\", pythonpath=True)"
   ]
  },
  {
   "cell_type": "code",
   "execution_count": null,
   "metadata": {},
   "outputs": [],
   "source": [
    "import importlib\n",
    "\n",
    "import src.data.defile_datamodule\n",
    "from src.data.defile_datamodule import DefileDataModule\n",
    "\n",
    "importlib.reload(src.data.defile_datamodule)\n",
    "from src.data.defile_datamodule import DefileDataModule"
   ]
  },
  {
   "cell_type": "code",
   "execution_count": null,
   "metadata": {},
   "outputs": [],
   "source": [
    "dataloader = DefileDataModule(\n",
    "    data_dir=r\"../data\",\n",
    "    batch_size=256,\n",
    "    species=\"Buse variable\",\n",
    "    lag_day=7,\n",
    "    seed=0,\n",
    "    train_val_test_cum_ratio=[0.7, 0.9],\n",
    "    num_workers=0,\n",
    "    pin_memory=False,\n",
    ")\n",
    "dataloader.setup()"
   ]
  },
  {
   "cell_type": "code",
   "execution_count": null,
   "metadata": {},
   "outputs": [],
   "source": [
    "train_dataloader = dataloader.train_dataloader()\n",
    "count, yr, doy, era5_m, era5_h, era5_d, m = next(iter(train_dataloader))"
   ]
  },
  {
   "cell_type": "code",
   "execution_count": null,
   "metadata": {},
   "outputs": [],
   "source": [
    "import matplotlib.pyplot as plt\n",
    "\n",
    "train_dataloader.dataset.era5_hourly.sun_azimuth.plot.hist(bins=30)\n",
    "plt.show()"
   ]
  },
  {
   "cell_type": "code",
   "execution_count": null,
   "metadata": {},
   "outputs": [],
   "source": [
    "predict_dataloader = dataloader.predict_dataloader(forecast_day=1)"
   ]
  },
  {
   "cell_type": "code",
   "execution_count": null,
   "metadata": {},
   "outputs": [],
   "source": [
    "dataloader.data_train.trans_main"
   ]
  }
 ],
 "metadata": {
  "kernelspec": {
   "display_name": "defile-env",
   "language": "python",
   "name": "python3"
  },
  "language_info": {
   "codemirror_mode": {
    "name": "ipython",
    "version": 3
   },
   "file_extension": ".py",
   "mimetype": "text/x-python",
   "name": "python",
   "nbconvert_exporter": "python",
   "pygments_lexer": "ipython3",
   "version": "3.10.14"
  }
 },
 "nbformat": 4,
 "nbformat_minor": 2
}
