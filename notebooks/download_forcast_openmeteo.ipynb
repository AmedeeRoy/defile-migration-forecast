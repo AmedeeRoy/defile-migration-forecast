{
 "cells": [
  {
   "cell_type": "code",
   "execution_count": null,
   "metadata": {},
   "outputs": [],
   "source": [
    "import sys\n",
    "\n",
    "import pandas as pd\n",
    "\n",
    "# import importlib\n",
    "\n",
    "\n",
    "# \"/Users/rafnuss/Library/CloudStorage/Box-Box/defile-migration-forecast/\"\n",
    "sys.path.append(\n",
    "    r\"C:\\Users\\amedee.roy\\OneDrive - FRANCE ENERGIES MARINES\\SCRIPTS\\defile-migration-forecast\"\n",
    ")\n",
    "# rootutils.set_root(path=r\"C:\\Users\\amedee.roy\\OneDrive - FRANCE ENERGIES MARINES\\SCRIPTS\\defile-migration-forecast\")\n",
    "from src.data.open_meteo import *"
   ]
  },
  {
   "cell_type": "code",
   "execution_count": null,
   "metadata": {},
   "outputs": [],
   "source": [
    "era5_main_location = \"Defile\"\n",
    "era5_main_variables = [\n",
    "    \"temperature_2m\",\n",
    "    \"dewpoint_temperature_2m\",\n",
    "    \"total_precipitation\",\n",
    "    \"surface_pressure\",\n",
    "    \"u_component_of_wind_10m\",\n",
    "    \"v_component_of_wind_10m\",\n",
    "    \"u_component_of_wind_100m\",\n",
    "    \"v_component_of_wind_100m\",\n",
    "    \"instantaneous_10m_wind_gust\",\n",
    "    \"high_cloud_cover\",\n",
    "    \"low_cloud_cover\",\n",
    "    \"medium_cloud_cover\",\n",
    "    \"total_cloud_cover\",\n",
    "    \"surface_solar_radiation_downwards\",\n",
    "]\n",
    "era5_hourly_locations = [\n",
    "    \"MontTendre\",\n",
    "    \"Chasseral\",\n",
    "    \"Basel\",\n",
    "    \"Dijon\",\n",
    "    \"ColGrandSaintBernard\",\n",
    "]\n",
    "era5_hourly_variables = [\n",
    "    \"temperature_2m\",\n",
    "    \"total_precipitation\",\n",
    "    \"surface_pressure\",\n",
    "    \"u_component_of_wind_100m\",\n",
    "    \"v_component_of_wind_100m\",\n",
    "    \"total_cloud_cover\",\n",
    "    \"surface_solar_radiation_downwards\",\n",
    "]\n",
    "era5_daily_locations = [\n",
    "    \"Defile\",\n",
    "    \"Schaffhausen\",\n",
    "    \"Basel\",\n",
    "    \"Munich\",\n",
    "    \"Stuttgart\",\n",
    "    \"Frankfurt\",\n",
    "    \"Berlin\",\n",
    "]\n",
    "era5_daily_variables = [\n",
    "    \"temperature_2m\",\n",
    "    \"total_precipitation\",\n",
    "    \"surface_pressure\",\n",
    "    \"u_component_of_wind_100m\",\n",
    "    \"v_component_of_wind_100m\",\n",
    "]\n",
    "lag_day = 7\n",
    "forecast_day = 5"
   ]
  },
  {
   "cell_type": "code",
   "execution_count": null,
   "metadata": {},
   "outputs": [],
   "source": [
    "era5_main_forcast = download_forecast_hourly(\n",
    "    era5_main_location,\n",
    "    era5_main_variables,\n",
    "    lag_day=5,\n",
    "    forecast_day=5,\n",
    "    add_sun=True,\n",
    ")\n",
    "\n",
    "era5_main_forcast"
   ]
  },
  {
   "cell_type": "code",
   "execution_count": null,
   "metadata": {},
   "outputs": [],
   "source": [
    "print(era5_main_forcast.data_vars)"
   ]
  },
  {
   "cell_type": "code",
   "execution_count": null,
   "metadata": {},
   "outputs": [],
   "source": [
    "# Create a data.frame with the initial values\n",
    "df = pd.DataFrame(\n",
    "    {\n",
    "        \"date\": pd.date_range(\n",
    "            start=pd.Timestamp.now().normalize(),\n",
    "            periods=forecast_day + 1,\n",
    "            freq=\"D\",\n",
    "        )\n",
    "    }\n",
    ")\n",
    "df[\"doy\"] = df[\"date\"].dt.day_of_year\n",
    "df[\"year\"] = df[\"date\"].dt.year"
   ]
  },
  {
   "cell_type": "code",
   "execution_count": null,
   "metadata": {},
   "outputs": [],
   "source": [
    "df"
   ]
  },
  {
   "cell_type": "code",
   "execution_count": null,
   "metadata": {},
   "outputs": [],
   "source": [
    "era5_main_forcast.sel(date=df.date[5])"
   ]
  },
  {
   "cell_type": "code",
   "execution_count": null,
   "metadata": {},
   "outputs": [],
   "source": [
    "era5_daily_forcast = download_forecast_daily(\n",
    "    era5_daily_locations,\n",
    "    era5_daily_variables,\n",
    "    lag_day=lag_day,\n",
    "    forecast_day=forecast_day,\n",
    ")"
   ]
  },
  {
   "cell_type": "code",
   "execution_count": null,
   "metadata": {},
   "outputs": [],
   "source": [
    "era5_daily_forcast"
   ]
  },
  {
   "cell_type": "code",
   "execution_count": null,
   "metadata": {},
   "outputs": [],
   "source": [
    "era5_hourly = download_forecast_hourly(\n",
    "    locations=era5_daily_locations,\n",
    "    variables=era5_daily_variables,\n",
    "    lag_day=lag_day,\n",
    "    forecast_day=forecast_day,\n",
    "    add_sun=False,\n",
    ")\n",
    "\n",
    "# # Create daily data (with lags)\n",
    "# era5_daily = era5_hourly.mean(dim=\"time\")  # get daily mean\n",
    "# era5_daily = era5_daily.assign_coords(lag=[0])  # add lag as new coordinate\n",
    "# # Make all existing variables depend on the new coordinate\n",
    "# for var in era5_daily.data_vars:\n",
    "#     era5_daily[var] = era5_daily[var].expand_dims({\"lag\": era5_daily.lag})\n",
    "\n",
    "# # Shift and merge daily data\n",
    "# era5_daily_lagged = era5_daily.copy()\n",
    "# for lag in range(1, lag_day):\n",
    "#     df = era5_daily.shift(date=lag)\n",
    "#     df = df.assign_coords(lag=[lag])\n",
    "#     era5_daily_lagged = era5_daily_lagged.merge(df.copy())\n",
    "\n",
    "#  Remove all dates with NaN\n",
    "# (-> to guarantee that each item has the same size)\n",
    "# (= equivalent to removing date when no lags are available)\n",
    "# era5_daily_lagged = era5_daily_lagged.dropna(dim=\"date\")"
   ]
  },
  {
   "cell_type": "code",
   "execution_count": null,
   "metadata": {},
   "outputs": [],
   "source": [
    "era5_hourly"
   ]
  },
  {
   "cell_type": "code",
   "execution_count": null,
   "metadata": {},
   "outputs": [],
   "source": [
    "era5_daily_lagged.isel(date=0)"
   ]
  }
 ],
 "metadata": {
  "kernelspec": {
   "display_name": "defile-env",
   "language": "python",
   "name": "python3"
  },
  "language_info": {
   "codemirror_mode": {
    "name": "ipython",
    "version": 3
   },
   "file_extension": ".py",
   "mimetype": "text/x-python",
   "name": "python",
   "nbconvert_exporter": "python",
   "pygments_lexer": "ipython3",
   "version": "3.10.14"
  }
 },
 "nbformat": 4,
 "nbformat_minor": 2
}
